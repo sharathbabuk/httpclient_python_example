{
 "cells": [
  {
   "cell_type": "code",
   "execution_count": 1,
   "id": "ee333aca",
   "metadata": {},
   "outputs": [],
   "source": [
    "# importing the requests library\n",
    "import requests"
   ]
  },
  {
   "cell_type": "code",
   "execution_count": 2,
   "id": "b5c6769f",
   "metadata": {},
   "outputs": [],
   "source": [
    "# api-endpoint\n",
    "#URL = \"http://maps.googleapis.com/maps/api/geocode/json\"\n",
    "URL = \"https://maps.googleapis.com/maps/api/geocode/json?address=1600+Amphitheatre+Parkway,+Mountain+View,+CA&key=<key>\""
   ]
  },
  {
   "cell_type": "code",
   "execution_count": 3,
   "id": "158850a3",
   "metadata": {},
   "outputs": [],
   "source": [
    "# location given here\n",
    "#location = \"Georgia State University\""
   ]
  },
  {
   "cell_type": "code",
   "execution_count": 4,
   "id": "2ff84a42",
   "metadata": {},
   "outputs": [],
   "source": [
    "# defining a params dict for the parameters to be sent to the API\n",
    "#PARAMS = {'address':location}"
   ]
  },
  {
   "cell_type": "code",
   "execution_count": 5,
   "id": "55f59f61",
   "metadata": {},
   "outputs": [],
   "source": [
    "#id_token = '<key>';"
   ]
  },
  {
   "cell_type": "code",
   "execution_count": 6,
   "id": "728bc665",
   "metadata": {},
   "outputs": [],
   "source": [
    "# set authorization header\n",
    "#headers = {'Authorization': 'Bearer %s' % id_token}"
   ]
  },
  {
   "cell_type": "code",
   "execution_count": 7,
   "id": "48998d05",
   "metadata": {},
   "outputs": [],
   "source": [
    "#print (headers)"
   ]
  },
  {
   "cell_type": "code",
   "execution_count": 8,
   "id": "72fb3b3a",
   "metadata": {},
   "outputs": [],
   "source": [
    "# sending get request and saving the response as response object\n",
    "#r = requests.get(url = URL, params = PARAMS, headers=headers)\n",
    "r = requests.get(url = URL)"
   ]
  },
  {
   "cell_type": "code",
   "execution_count": null,
   "id": "5e5c2bf4",
   "metadata": {},
   "outputs": [],
   "source": []
  },
  {
   "cell_type": "code",
   "execution_count": 9,
   "id": "93c2360a",
   "metadata": {},
   "outputs": [],
   "source": [
    "# extracting data in json format\n",
    "data = r.json()"
   ]
  },
  {
   "cell_type": "code",
   "execution_count": 10,
   "id": "628279f2",
   "metadata": {},
   "outputs": [
    {
     "name": "stdout",
     "output_type": "stream",
     "text": [
      "{'results': [{'address_components': [{'long_name': 'Google Building 40', 'short_name': 'Google Building 40', 'types': ['premise']}, {'long_name': '1600', 'short_name': '1600', 'types': ['street_number']}, {'long_name': 'Amphitheatre Parkway', 'short_name': 'Amphitheatre Pkwy', 'types': ['route']}, {'long_name': 'Mountain View', 'short_name': 'Mountain View', 'types': ['locality', 'political']}, {'long_name': 'Santa Clara County', 'short_name': 'Santa Clara County', 'types': ['administrative_area_level_2', 'political']}, {'long_name': 'California', 'short_name': 'CA', 'types': ['administrative_area_level_1', 'political']}, {'long_name': 'United States', 'short_name': 'US', 'types': ['country', 'political']}, {'long_name': '94043', 'short_name': '94043', 'types': ['postal_code']}], 'formatted_address': 'Google Building 40, 1600 Amphitheatre Pkwy, Mountain View, CA 94043, USA', 'geometry': {'bounds': {'northeast': {'lat': 37.4226618, 'lng': -122.0829302}, 'southwest': {'lat': 37.4220699, 'lng': -122.084958}}, 'location': {'lat': 37.4223878, 'lng': -122.0841877}, 'location_type': 'ROOFTOP', 'viewport': {'northeast': {'lat': 37.42368353029149, 'lng': -122.0825951197085}, 'southwest': {'lat': 37.42098556970849, 'lng': -122.0852930802915}}}, 'place_id': 'ChIJj38IfwK6j4ARNcyPDnEGa9g', 'types': ['premise']}], 'status': 'OK'}\n"
     ]
    }
   ],
   "source": [
    "print (data)"
   ]
  },
  {
   "cell_type": "code",
   "execution_count": 11,
   "id": "58aae0a4",
   "metadata": {},
   "outputs": [
    {
     "name": "stdout",
     "output_type": "stream",
     "text": [
      "Latitude:37.4223878\n",
      "Longitude:-122.0841877\n",
      "Formatted Address:Google Building 40, 1600 Amphitheatre Pkwy, Mountain View, CA 94043, USA\n"
     ]
    }
   ],
   "source": [
    "# extracting latitude, longitude and formatted address \n",
    "# of the first matching location\n",
    "latitude = data['results'][0]['geometry']['location']['lat']\n",
    "longitude = data['results'][0]['geometry']['location']['lng']\n",
    "formatted_address = data['results'][0]['formatted_address']\n",
    "  \n",
    "# printing the output\n",
    "print(\"Latitude:%s\\nLongitude:%s\\nFormatted Address:%s\"\n",
    "      %(latitude, longitude,formatted_address))"
   ]
  },
  {
   "cell_type": "code",
   "execution_count": null,
   "id": "25952db9",
   "metadata": {},
   "outputs": [],
   "source": []
  }
 ],
 "metadata": {
  "kernelspec": {
   "display_name": "Python 3 (ipykernel)",
   "language": "python",
   "name": "python3"
  },
  "language_info": {
   "codemirror_mode": {
    "name": "ipython",
    "version": 3
   },
   "file_extension": ".py",
   "mimetype": "text/x-python",
   "name": "python",
   "nbconvert_exporter": "python",
   "pygments_lexer": "ipython3",
   "version": "3.9.7"
  }
 },
 "nbformat": 4,
 "nbformat_minor": 5
}
